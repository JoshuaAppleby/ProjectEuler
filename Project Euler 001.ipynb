{
 "cells": [
  {
   "cell_type": "code",
   "execution_count": null,
   "metadata": {},
   "outputs": [],
   "source": [
    "#Project Euler, Problem 1\n",
    "#Multiples of 3 and 5"
   ]
  },
  {
   "cell_type": "code",
   "execution_count": 9,
   "metadata": {},
   "outputs": [],
   "source": [
    "def sumof3or5(N):\n",
    "    \"\"\"If we list all the natural numbers below 10 that are multiples of 3 or 5,\n",
    "        we get 3, 5, 6 and 9. The sum of these multiples is 23.\n",
    "        Find the sum of all the multiples of 3 or 5 below 1000.\n",
    "    \"\"\"\n",
    "    total = 0\n",
    "    for n in range(N):\n",
    "        if n % 3 == 0 or n % 5 == 0:\n",
    "            total += n   \n",
    "    return total"
   ]
  },
  {
   "cell_type": "code",
   "execution_count": 10,
   "metadata": {},
   "outputs": [
    {
     "data": {
      "text/plain": [
       "233168"
      ]
     },
     "execution_count": 10,
     "metadata": {},
     "output_type": "execute_result"
    }
   ],
   "source": [
    "sumof3or5(1000)"
   ]
  }
 ],
 "metadata": {
  "kernelspec": {
   "display_name": "Python 3",
   "language": "python",
   "name": "python3"
  },
  "language_info": {
   "codemirror_mode": {
    "name": "ipython",
    "version": 3
   },
   "file_extension": ".py",
   "mimetype": "text/x-python",
   "name": "python",
   "nbconvert_exporter": "python",
   "pygments_lexer": "ipython3",
   "version": "3.8.5"
  }
 },
 "nbformat": 4,
 "nbformat_minor": 4
}
