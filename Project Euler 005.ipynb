{
 "cells": [
  {
   "cell_type": "code",
   "execution_count": null,
   "metadata": {},
   "outputs": [],
   "source": [
    "#Project Euler, Problem 5\n",
    "#Smallest multiple"
   ]
  },
  {
   "cell_type": "code",
   "execution_count": 19,
   "metadata": {},
   "outputs": [],
   "source": [
    "def smallmultiple(N):\n",
    "    \"\"\"2520 is the smallest number that can be divided by each of the \n",
    "        numbers from 1 to 10 without any remainder.\n",
    "        What is the smallest positive number that is \n",
    "        evenly divisible by all of the numbers from 1 to 20?\n",
    "    \"\"\"\n",
    "    answer = 1\n",
    "    list = []\n",
    "    for i in range(2,N):\n",
    "        list.append(i)\n",
    "    \n",
    "    for i in range(0, len(list)):\n",
    "        for j in range(1, i+1):\n",
    "            if list[i] % list[i-j] == 0:\n",
    "                list[i] = int(list[i] / list[i-j])\n",
    "   \n",
    "    for i in range(0, len(list)):\n",
    "        answer = answer * list[i]\n",
    "    return answer\n",
    "    "
   ]
  },
  {
   "cell_type": "code",
   "execution_count": 20,
   "metadata": {},
   "outputs": [
    {
     "data": {
      "text/plain": [
       "232792560"
      ]
     },
     "execution_count": 20,
     "metadata": {},
     "output_type": "execute_result"
    }
   ],
   "source": [
    "smallmultiple(20)"
   ]
  }
 ],
 "metadata": {
  "kernelspec": {
   "display_name": "Python 3",
   "language": "python",
   "name": "python3"
  },
  "language_info": {
   "codemirror_mode": {
    "name": "ipython",
    "version": 3
   },
   "file_extension": ".py",
   "mimetype": "text/x-python",
   "name": "python",
   "nbconvert_exporter": "python",
   "pygments_lexer": "ipython3",
   "version": "3.8.5"
  }
 },
 "nbformat": 4,
 "nbformat_minor": 4
}
