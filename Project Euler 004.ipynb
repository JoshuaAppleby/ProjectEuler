{
 "cells": [
  {
   "cell_type": "code",
   "execution_count": null,
   "metadata": {},
   "outputs": [],
   "source": [
    "#Project Euler, Problem 4\n",
    "#Largest palindrome product"
   ]
  },
  {
   "cell_type": "code",
   "execution_count": 37,
   "metadata": {},
   "outputs": [],
   "source": [
    "def largestpal(S, L):\n",
    "    \"\"\"A palindromic number reads the same both ways. \n",
    "    The largest palindrome made from the product of two 2-digit numbers is 9009 = 91 × 99.\n",
    "    Find the largest palindrome made from the product of two 3-digit numbers.\n",
    "    \"\"\"\n",
    "    pal = []\n",
    "    for i in range(S, L):\n",
    "        for j in range(S, L):\n",
    "            num = str(j*i)\n",
    "            rev = num[::-1]\n",
    "            if num == rev:\n",
    "                pal.append(i*j)\n",
    "    return max(pal)"
   ]
  },
  {
   "cell_type": "code",
   "execution_count": 38,
   "metadata": {},
   "outputs": [
    {
     "data": {
      "text/plain": [
       "906609"
      ]
     },
     "execution_count": 38,
     "metadata": {},
     "output_type": "execute_result"
    }
   ],
   "source": [
    "largestpal(100,999)"
   ]
  }
 ],
 "metadata": {
  "kernelspec": {
   "display_name": "Python 3",
   "language": "python",
   "name": "python3"
  },
  "language_info": {
   "codemirror_mode": {
    "name": "ipython",
    "version": 3
   },
   "file_extension": ".py",
   "mimetype": "text/x-python",
   "name": "python",
   "nbconvert_exporter": "python",
   "pygments_lexer": "ipython3",
   "version": "3.8.5"
  }
 },
 "nbformat": 4,
 "nbformat_minor": 4
}
